{
 "cells": [
  {
   "cell_type": "markdown",
   "id": "74608cef",
   "metadata": {},
   "source": [
    "# Implementing Gradient Descent"
   ]
  },
  {
   "cell_type": "markdown",
   "id": "aaa3e86a",
   "metadata": {},
   "source": [
    "### Importing needed libraries"
   ]
  },
  {
   "cell_type": "code",
   "execution_count": 10,
   "id": "d8278b6b",
   "metadata": {},
   "outputs": [],
   "source": [
    "import numpy as np\n",
    "import pandas as pd"
   ]
  },
  {
   "cell_type": "markdown",
   "id": "93f2cf0c",
   "metadata": {},
   "source": [
    "### Defining the Sigmoid function for activations"
   ]
  },
  {
   "cell_type": "code",
   "execution_count": 11,
   "id": "ec26f4e4",
   "metadata": {},
   "outputs": [],
   "source": [
    "# Calculate the sigmoid function\n",
    "def sigmoid(x):\n",
    "    return 1/(1 + np.exp(-x))\n",
    "\n",
    "# Derivative of the sigmoid function\n",
    "def sigmoid_prime(x):\n",
    "    return sigmoid(x) * (1 - sigmoid(x))\n",
    "\n",
    "# The learning rate, eta in the weight step equation\n",
    "learning_rate = 0.5"
   ]
  },
  {
   "cell_type": "markdown",
   "id": "6eee2545",
   "metadata": {},
   "source": [
    "### Initialize data records "
   ]
  },
  {
   "cell_type": "code",
   "execution_count": 12,
   "id": "f155871c",
   "metadata": {},
   "outputs": [],
   "source": [
    "# Input data: x, Output data: y, and Inintial weights: w\n",
    "w = np.array([0.5, -0.5, 0.3, 0.1])\n",
    "x = np.array([1, 2, 3, 4])\n",
    "y = np.array(0.5)"
   ]
  },
  {
   "cell_type": "markdown",
   "id": "68c02896",
   "metadata": {},
   "source": [
    "### The linear combination performed by the node h"
   ]
  },
  {
   "cell_type": "code",
   "execution_count": 13,
   "id": "1b2933ae",
   "metadata": {},
   "outputs": [],
   "source": [
    "h = np.dot(x, w)"
   ]
  },
  {
   "cell_type": "markdown",
   "id": "c0573309",
   "metadata": {},
   "source": [
    "### The neural network output ( y-hat = f(h) )"
   ]
  },
  {
   "cell_type": "code",
   "execution_count": 14,
   "id": "d2df8317",
   "metadata": {},
   "outputs": [],
   "source": [
    "nn_output = sigmoid(h)"
   ]
  },
  {
   "cell_type": "markdown",
   "id": "e05fdf20",
   "metadata": {},
   "source": [
    "### Calculate the error term (lowercase delta)"
   ]
  },
  {
   "cell_type": "code",
   "execution_count": 15,
   "id": "7ffbf9ae",
   "metadata": {},
   "outputs": [],
   "source": [
    "# output error (y - y-hat)\n",
    "error = y - nn_output\n",
    "\n",
    "# output gradient (f'(h))\n",
    "output_gradient = sigmoid_prime(h)\n",
    "\n",
    "# error term \n",
    "error_term = error * output_gradient"
   ]
  },
  {
   "cell_type": "markdown",
   "id": "6419e380",
   "metadata": {},
   "source": [
    "### Calculate change in weights"
   ]
  },
  {
   "cell_type": "code",
   "execution_count": 16,
   "id": "0cc213c0",
   "metadata": {},
   "outputs": [],
   "source": [
    "# Gradient descent step \n",
    "del_w = learning_rate  *error_term*  x"
   ]
  },
  {
   "cell_type": "code",
   "execution_count": 17,
   "id": "72f89eff",
   "metadata": {},
   "outputs": [
    {
     "name": "stdout",
     "output_type": "stream",
     "text": [
      "Neural Network output:\n",
      "0.6899744811276125\n",
      "Amount of Error:\n",
      "-0.1899744811276125\n",
      "Change in Weights:\n",
      "[-0.02031869 -0.04063738 -0.06095608 -0.08127477]\n"
     ]
    }
   ],
   "source": [
    "# Optional print\n",
    "print('Neural Network output:')\n",
    "print(nn_output)\n",
    "print('Amount of Error:')\n",
    "print(error)\n",
    "print('Change in Weights:')\n",
    "print(del_w)"
   ]
  }
 ],
 "metadata": {
  "kernelspec": {
   "display_name": "Python 3 (ipykernel)",
   "language": "python",
   "name": "python3"
  },
  "language_info": {
   "codemirror_mode": {
    "name": "ipython",
    "version": 3
   },
   "file_extension": ".py",
   "mimetype": "text/x-python",
   "name": "python",
   "nbconvert_exporter": "python",
   "pygments_lexer": "ipython3",
   "version": "3.10.12"
  }
 },
 "nbformat": 4,
 "nbformat_minor": 5
}
